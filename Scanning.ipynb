{
  "nbformat": 4,
  "nbformat_minor": 0,
  "metadata": {
    "colab": {
      "name": "Untitled4.ipynb",
      "provenance": [],
      "mount_file_id": "1k5LWulHFfaTmRF0Zga3fwy2YvsJL8jH6",
      "authorship_tag": "ABX9TyOk6sLqa+4qQYFXDrvFwooM",
      "include_colab_link": true
    },
    "kernelspec": {
      "name": "python3",
      "display_name": "Python 3"
    },
    "language_info": {
      "name": "python"
    }
  },
  "cells": [
    {
      "cell_type": "markdown",
      "metadata": {
        "id": "view-in-github",
        "colab_type": "text"
      },
      "source": [
        "<a href=\"https://colab.research.google.com/github/boiledtech-dev/Comic_Creator/blob/main/Scanning.ipynb\" target=\"_parent\"><img src=\"https://colab.research.google.com/assets/colab-badge.svg\" alt=\"Open In Colab\"/></a>"
      ]
    },
    {
      "cell_type": "code",
      "source": [
        "import numpy as np\n",
        "import cv2\n",
        "def order_points(pts):\n",
        "\t# initialzie a list of coordinates that will be ordered\n",
        "\t# such that the first entry in the list is the top-left,\n",
        "\t# the second entry is the top-right, the third is the\n",
        "\t# bottom-right, and the fourth is the bottom-left\n",
        "\trect = np.zeros((4, 2), dtype = \"float32\")\n",
        "\t# the top-left point will have the smallest sum, whereas\n",
        "\t# the bottom-right point will have the largest sum\n",
        "\ts = pts.sum(axis = 1)\n",
        "\trect[0] = pts[np.argmin(s)]\n",
        "\trect[2] = pts[np.argmax(s)]\n",
        "\t# now, compute the difference between the points, the\n",
        "\t# top-right point will have the smallest difference,\n",
        "\t# whereas the bottom-left will have the largest difference\n",
        "\tdiff = np.diff(pts, axis = 1)\n",
        "\trect[1] = pts[np.argmin(diff)]\n",
        "\trect[3] = pts[np.argmax(diff)]\n",
        "\t# return the ordered coordinates\n",
        "\treturn rect\n",
        "\n",
        "def four_point_transform(image, pts):\n",
        "    \t# obtain a consistent order of the points and unpack them\n",
        "\t# individually\n",
        "\trect = order_points(pts)\n",
        "\t(tl, tr, br, bl) = rect\n",
        "\t# compute the width of the new image, which will be the\n",
        "\t# maximum distance between bottom-right and bottom-left\n",
        "\t# x-coordiates or the top-right and top-left x-coordinates\n",
        "\twidthA = np.sqrt(((br[0] - bl[0]) ** 2) + ((br[1] - bl[1]) ** 2))\n",
        "\twidthB = np.sqrt(((tr[0] - tl[0]) ** 2) + ((tr[1] - tl[1]) ** 2))\n",
        "\tmaxWidth = max(int(widthA), int(widthB))\n",
        "\t# compute the height of the new image, which will be the\n",
        "\t# maximum distance between the top-right and bottom-right\n",
        "\t# y-coordinates or the top-left and bottom-left y-coordinates\n",
        "\theightA = np.sqrt(((tr[0] - br[0]) ** 2) + ((tr[1] - br[1]) ** 2))\n",
        "\theightB = np.sqrt(((tl[0] - bl[0]) ** 2) + ((tl[1] - bl[1]) ** 2))\n",
        "\tmaxHeight = max(int(heightA), int(heightB))\n",
        "\t# now that we have the dimensions of the new image, construct\n",
        "\t# the set of destination points to obtain a \"birds eye view\",\n",
        "\t# (i.e. top-down view) of the image, again specifying points\n",
        "\t# in the top-left, top-right, bottom-right, and bottom-left\n",
        "\t# order\n",
        "\tdst = np.array([\n",
        "\t\t[0, 0],\n",
        "\t\t[maxWidth - 1, 0],\n",
        "\t\t[maxWidth - 1, maxHeight - 1],\n",
        "\t\t[0, maxHeight - 1]], dtype = \"float32\")\n",
        "\t# compute the perspective transform matrix and then apply it\n",
        "\tM = cv2.getPerspectiveTransform(rect, dst)\n",
        "\twarped = cv2.warpPerspective(image, M, (maxWidth, maxHeight))\n",
        "\t# return the warped image\n",
        "\treturn warped"
      ],
      "metadata": {
        "id": "sozjR8en5pcj"
      },
      "execution_count": 3,
      "outputs": []
    },
    {
      "cell_type": "code",
      "source": [
        "import numpy as np\n",
        "import cv2\n",
        "def order_points(pts):\n",
        "\t# initialzie a list of coordinates that will be ordered\n",
        "\t# such that the first entry in the list is the top-left,\n",
        "\t# the second entry is the top-right, the third is the\n",
        "\t# bottom-right, and the fourth is the bottom-left\n",
        "\trect = np.zeros((4, 2), dtype = \"float32\")\n",
        "\t# the top-left point will have the smallest sum, whereas\n",
        "\t# the bottom-right point will have the largest sum\n",
        "\ts = pts.sum(axis = 1)\n",
        "\trect[0] = pts[np.argmin(s)]\n",
        "\trect[2] = pts[np.argmax(s)]\n",
        "\t# now, compute the difference between the points, the\n",
        "\t# top-right point will have the smallest difference,\n",
        "\t# whereas the bottom-left will have the largest difference\n",
        "\tdiff = np.diff(pts, axis = 1)\n",
        "\trect[1] = pts[np.argmin(diff)]\n",
        "\trect[3] = pts[np.argmax(diff)]\n",
        "\t# return the ordered coordinates\n",
        "\treturn rect\n",
        "\n",
        "def four_point_transform(image, pts):\n",
        "    \t# obtain a consistent order of the points and unpack them\n",
        "\t# individually\n",
        "\trect = order_points(pts)\n",
        "\t(tl, tr, br, bl) = rect\n",
        "\t# compute the width of the new image, which will be the\n",
        "\t# maximum distance between bottom-right and bottom-left\n",
        "\t# x-coordiates or the top-right and top-left x-coordinates\n",
        "\twidthA = np.sqrt(((br[0] - bl[0]) ** 2) + ((br[1] - bl[1]) ** 2))\n",
        "\twidthB = np.sqrt(((tr[0] - tl[0]) ** 2) + ((tr[1] - tl[1]) ** 2))\n",
        "\tmaxWidth = max(int(widthA), int(widthB))\n",
        "\t# compute the height of the new image, which will be the\n",
        "\t# maximum distance between the top-right and bottom-right\n",
        "\t# y-coordinates or the top-left and bottom-left y-coordinates\n",
        "\theightA = np.sqrt(((tr[0] - br[0]) ** 2) + ((tr[1] - br[1]) ** 2))\n",
        "\theightB = np.sqrt(((tl[0] - bl[0]) ** 2) + ((tl[1] - bl[1]) ** 2))\n",
        "\tmaxHeight = max(int(heightA), int(heightB))\n",
        "\t# now that we have the dimensions of the new image, construct\n",
        "\t# the set of destination points to obtain a \"birds eye view\",\n",
        "\t# (i.e. top-down view) of the image, again specifying points\n",
        "\t# in the top-left, top-right, bottom-right, and bottom-left\n",
        "\t# order\n",
        "\tdst = np.array([\n",
        "\t\t[0, 0],\n",
        "\t\t[maxWidth - 1, 0],\n",
        "\t\t[maxWidth - 1, maxHeight - 1],\n",
        "\t\t[0, maxHeight - 1]], dtype = \"float32\")\n",
        "\t# compute the perspective transform matrix and then apply it\n",
        "\tM = cv2.getPerspectiveTransform(rect, dst)\n",
        "\twarped = cv2.warpPerspective(image, M, (maxWidth, maxHeight))\n",
        "\t# return the warped image\n",
        "\treturn warped"
      ],
      "metadata": {
        "id": "K-3g7W145NX_"
      },
      "execution_count": 4,
      "outputs": []
    },
    {
      "cell_type": "code",
      "execution_count": 9,
      "metadata": {
        "colab": {
          "base_uri": "https://localhost:8080/",
          "height": 236
        },
        "id": "dd5muAgA4cEY",
        "outputId": "4dd627f6-06e1-4552-d865-63393b4d3009"
      },
      "outputs": [
        {
          "output_type": "error",
          "ename": "NameError",
          "evalue": "ignored",
          "traceback": [
            "\u001b[0;31m---------------------------------------------------------------------------\u001b[0m",
            "\u001b[0;31mNameError\u001b[0m                                 Traceback (most recent call last)",
            "\u001b[0;32m<ipython-input-9-bf45459c3c01>\u001b[0m in \u001b[0;36m<module>\u001b[0;34m()\u001b[0m\n\u001b[1;32m     10\u001b[0m \u001b[0mimage\u001b[0m\u001b[0;34m=\u001b[0m \u001b[0mimutils\u001b[0m\u001b[0;34m.\u001b[0m\u001b[0mresize\u001b[0m\u001b[0;34m(\u001b[0m\u001b[0mimage\u001b[0m\u001b[0;34m,\u001b[0m \u001b[0mheight\u001b[0m\u001b[0;34m=\u001b[0m\u001b[0;36m500\u001b[0m\u001b[0;34m)\u001b[0m\u001b[0;34m\u001b[0m\u001b[0;34m\u001b[0m\u001b[0m\n\u001b[1;32m     11\u001b[0m \u001b[0;31m#grayscale\u001b[0m\u001b[0;34m\u001b[0m\u001b[0;34m\u001b[0m\u001b[0;34m\u001b[0m\u001b[0m\n\u001b[0;32m---> 12\u001b[0;31m \u001b[0mim_show\u001b[0m\u001b[0;34m(\u001b[0m\u001b[0mimage\u001b[0m\u001b[0;34m)\u001b[0m\u001b[0;34m\u001b[0m\u001b[0;34m\u001b[0m\u001b[0m\n\u001b[0m\u001b[1;32m     13\u001b[0m \u001b[0mgray\u001b[0m\u001b[0;34m=\u001b[0m \u001b[0mcv2\u001b[0m\u001b[0;34m.\u001b[0m\u001b[0mcvtColor\u001b[0m\u001b[0;34m(\u001b[0m\u001b[0mimage\u001b[0m\u001b[0;34m,\u001b[0m \u001b[0mcv2\u001b[0m\u001b[0;34m.\u001b[0m\u001b[0mCOLOR_BGR2GRAY\u001b[0m\u001b[0;34m)\u001b[0m\u001b[0;34m\u001b[0m\u001b[0;34m\u001b[0m\u001b[0m\n\u001b[1;32m     14\u001b[0m \u001b[0msmooth\u001b[0m\u001b[0;34m=\u001b[0m \u001b[0mcv2\u001b[0m\u001b[0;34m.\u001b[0m\u001b[0mGaussianBlur\u001b[0m\u001b[0;34m(\u001b[0m\u001b[0mgray\u001b[0m\u001b[0;34m,\u001b[0m \u001b[0;34m(\u001b[0m\u001b[0;36m5\u001b[0m\u001b[0;34m,\u001b[0m\u001b[0;36m5\u001b[0m\u001b[0;34m)\u001b[0m\u001b[0;34m,\u001b[0m \u001b[0;36m0\u001b[0m\u001b[0;34m)\u001b[0m\u001b[0;34m\u001b[0m\u001b[0;34m\u001b[0m\u001b[0m\n",
            "\u001b[0;31mNameError\u001b[0m: name 'im_show' is not defined"
          ]
        }
      ],
      "source": [
        "import numpy as np \n",
        "import cv2\n",
        "import imutils \n",
        "from skimage.filters import threshold_local\n",
        "#from four_point import four_point_transform\n",
        "image= cv2.imread(\"/content/handwriting.jpeg\")\n",
        "ratio= image.shape[0]/500.0\n",
        "orig= image.copy()\n",
        "#resizing \n",
        "image= imutils.resize(image, height=500)\n",
        "#grayscale\n",
        "\n",
        "gray= cv2.cvtColor(image, cv2.COLOR_BGR2GRAY)\n",
        "smooth= cv2.GaussianBlur(gray, (5,5), 0)\n",
        "edged= cv2.Canny(gray, 75, 200)\n",
        "\n",
        "#finding the contours\n",
        "\n",
        "cnts= cv2.findContours(edged, cv2.RETR_LIST, cv2.CHAIN_APPROX_SIMPLE)\n",
        "cnts= imutils.grab_contours(cnts)\n",
        "cnts= sorted(cnts, key= cv2.contourArea, reverse=True)[:5]\n",
        "\n",
        "for c in cnts:\n",
        "    peri= cv2.arcLength(c, True)\n",
        "    approx= cv2.approxPolyDP(c, 0.02*peri, True)\n",
        "    if(len(approx)== 4):\n",
        "        screenCnt= approx\n",
        "        break\n",
        "'''\n",
        "#bird eye view\n",
        "warped= four_point_transform(orig, screenCnt.reshape(4,2)*ratio)\n",
        " \n",
        "cv2.imshow(\"bird\", warped)\n",
        "cv2.waitKey(0)\n",
        " '''   "
      ]
    }
  ]
}